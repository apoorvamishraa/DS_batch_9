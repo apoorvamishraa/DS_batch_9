{
  "nbformat": 4,
  "nbformat_minor": 0,
  "metadata": {
    "colab": {
      "private_outputs": true,
      "provenance": [],
      "authorship_tag": "ABX9TyMnuLQepQyLyL51EqhbBOmo",
      "include_colab_link": true
    },
    "kernelspec": {
      "name": "python3",
      "display_name": "Python 3"
    },
    "language_info": {
      "name": "python"
    }
  },
  "cells": [
    {
      "cell_type": "markdown",
      "metadata": {
        "id": "view-in-github",
        "colab_type": "text"
      },
      "source": [
        "<a href=\"https://colab.research.google.com/github/aryan22796/DS_batch_9/blob/main/Day_3.ipynb\" target=\"_parent\"><img src=\"https://colab.research.google.com/assets/colab-badge.svg\" alt=\"Open In Colab\"/></a>"
      ]
    },
    {
      "cell_type": "code",
      "execution_count": null,
      "metadata": {
        "id": "RhCKlqmR3ydi"
      },
      "outputs": [],
      "source": [
        "print(\"hello world\")"
      ]
    },
    {
      "cell_type": "markdown",
      "source": [
        "#Condition Satment\n"
      ],
      "metadata": {
        "id": "m75jXAGG8W9c"
      }
    },
    {
      "cell_type": "code",
      "source": [
        "x= float(input(\"enter the value : - \"))\n",
        "if x < 40:\n",
        "  print(\"you failed in exam : -\", \"you got \",x,\"Marks\" )"
      ],
      "metadata": {
        "id": "cN8EuzW658gM"
      },
      "execution_count": null,
      "outputs": []
    },
    {
      "cell_type": "code",
      "source": [
        "x= float(input(\"enter the value : - \"))\n",
        "if x <= 40:\n",
        "  print(\"you failed in exam : -\", \"you got \",x,\"Marks\" )"
      ],
      "metadata": {
        "id": "nP3Ad9fT8g-H"
      },
      "execution_count": null,
      "outputs": []
    },
    {
      "cell_type": "code",
      "source": [
        "x= float(input(\"enter the value : - \"))\n",
        "if x <= 40:\n",
        "  print(\"you failed in exam : -\", \"you got \",x,\"Marks\" )\n",
        "else:\n",
        "  print(\"you passed in exam\")"
      ],
      "metadata": {
        "id": "K1UMo0Qd9IQg"
      },
      "execution_count": null,
      "outputs": []
    },
    {
      "cell_type": "code",
      "source": [
        "x= float(input(\"enter the value : - \"))\n",
        "if x <= 40:\n",
        "  print(\"you failed in exam : -\", \"you got \",x,\"Marks\" )\n",
        "else:\n",
        "  print(\"you passed in exam\")"
      ],
      "metadata": {
        "id": "Rpx0vvtd9U8U"
      },
      "execution_count": null,
      "outputs": []
    },
    {
      "cell_type": "code",
      "source": [
        "# exam student 0 -100\n",
        "num = float(input(\"enter the your number :  \"))\n",
        "if num > 100 or num < 0:\n",
        "  print(\"Invalid!\")\n",
        "elif num >=90:\n",
        "  print(\"Grade A\")\n",
        "  print(\"passed! , congrats!!!!\")\n",
        "elif num >=75:\n",
        "  print(\"Grade B\")\n",
        "  print(\"passed! , work hard\")\n",
        "elif num >=60:\n",
        "  print(\"Grade C\")\n",
        "  print(\"passed! , Above average\")\n",
        "elif num >=40:\n",
        "  print(\"Grade D\")\n",
        "  print(\"passed! ,  average\")\n",
        "\n",
        "else:\n",
        "  print(\"grade E\")\n",
        "  print(\"better luck next time , please focused on your stuies!!\")\n"
      ],
      "metadata": {
        "id": "HEnGQ-YE-IRl"
      },
      "execution_count": null,
      "outputs": []
    },
    {
      "cell_type": "code",
      "source": [
        "#nested if\n",
        "num = float(input(\"enter the your number :  \"))\n",
        "if num >= 60:\n",
        "    if num<=85:\n",
        "      print(\"passed\")\n",
        "    else:\n",
        "      print(\"first class!\")\n",
        "else:\n",
        "  print(\"NA\")\n"
      ],
      "metadata": {
        "id": "CJbyuMDv-vnd"
      },
      "execution_count": null,
      "outputs": []
    },
    {
      "cell_type": "code",
      "source": [
        "#Gross pay composition\n",
        "#temperture"
      ],
      "metadata": {
        "id": "CzWmOan6_KfF"
      },
      "execution_count": null,
      "outputs": []
    },
    {
      "cell_type": "code",
      "source": [],
      "metadata": {
        "id": "KnAkXcYuDyS3"
      },
      "execution_count": null,
      "outputs": []
    },
    {
      "cell_type": "markdown",
      "source": [
        "# New Section"
      ],
      "metadata": {
        "id": "HwHom9HpD4qu"
      }
    }
  ]
}