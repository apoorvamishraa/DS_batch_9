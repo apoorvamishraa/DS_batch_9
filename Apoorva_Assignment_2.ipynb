{
  "nbformat": 4,
  "nbformat_minor": 0,
  "metadata": {
    "colab": {
      "provenance": [],
      "authorship_tag": "ABX9TyM7x9mZ6F+YkSQLnZ3sBlD+",
      "include_colab_link": true
    },
    "kernelspec": {
      "name": "python3",
      "display_name": "Python 3"
    },
    "language_info": {
      "name": "python"
    }
  },
  "cells": [
    {
      "cell_type": "markdown",
      "metadata": {
        "id": "view-in-github",
        "colab_type": "text"
      },
      "source": [
        "<a href=\"https://colab.research.google.com/github/apoorvamishraa/DS_batch_9/blob/main/Apoorva_Assignment_2.ipynb\" target=\"_parent\"><img src=\"https://colab.research.google.com/assets/colab-badge.svg\" alt=\"Open In Colab\"/></a>"
      ]
    },
    {
      "cell_type": "code",
      "execution_count": null,
      "metadata": {
        "colab": {
          "base_uri": "https://localhost:8080/"
        },
        "id": "PDAsLggb92vI",
        "outputId": "045e74dc-e551-4431-ce2a-cbaede2e9a68"
      },
      "outputs": [
        {
          "output_type": "stream",
          "name": "stdout",
          "text": [
            "Enter a value : 6\n",
            "The factorial of  6  is:  720\n"
          ]
        }
      ],
      "source": [
        "#Factorial program:\n",
        "\n",
        "x=int(input(\"Enter a value : \"))\n",
        "if x<0:\n",
        "  print(\"Wrong input! Negative value not accepted\")\n",
        "elif x==0:\n",
        "  print(\"The factorial of 0 : 1\")\n",
        "else:\n",
        "  f=1\n",
        "  for i in range(1,x+1):\n",
        "    f=f*i\n",
        "  print(\"The factorial of \",x,\" is: \",f)\n",
        "\n",
        "\n"
      ]
    },
    {
      "cell_type": "code",
      "execution_count": null,
      "metadata": {
        "colab": {
          "base_uri": "https://localhost:8080/"
        },
        "outputId": "a679bbb4-9ee6-4cf3-870b-ca1fc1352c5f",
        "id": "Jn8mcIQVtn3v"
      },
      "outputs": [
        {
          "output_type": "stream",
          "name": "stdout",
          "text": [
            "Enter a value to print the Fibonacci series : 5\n",
            "Fibonacci series upto 5 terms\n",
            "0 1 1 2 3 "
          ]
        }
      ],
      "source": [
        "#Fibonacci series program:\n",
        "\n",
        "x=int(input(\"Enter a value to print the Fibonacci series : \"))\n",
        "print(\"Fibonacci series upto\",x, \"terms\")\n",
        "if x<0:\n",
        "  print(\"Wrong input! Negative value not accepted\")\n",
        "elif x==0 or x==1:\n",
        "  print(x)\n",
        "else:\n",
        "  num1=0\n",
        "  num2=1\n",
        "  print(num1,num2,end=\" \")\n",
        "  for i in range(2,x):\n",
        "    num3 = num1 + num2\n",
        "    num1 = num2\n",
        "    num2 = num3\n",
        "    print(num3,end=\" \")\n",
        "\n"
      ]
    },
    {
      "cell_type": "code",
      "source": [
        "#Prime number program\n",
        "\n",
        "x=int(input(\"Enter a value to check whether prime number or not : \"))\n",
        "if x==1 or x<1:\n",
        "  print(\"Not a prime number\")\n",
        "else:\n",
        "    for i in range(2,x):\n",
        "      if (x % i) == 0:\n",
        "        print(x, \"IS NOT A PRIME NUMBER\")\n",
        "        break\n",
        "    else:\n",
        "        print(x, \"IS A PRIME NUMBER\")\n"
      ],
      "metadata": {
        "colab": {
          "base_uri": "https://localhost:8080/"
        },
        "id": "5PKo3K0q2a7H",
        "outputId": "7a443bcb-cad2-4ab7-8b20-4840eb3339b2"
      },
      "execution_count": null,
      "outputs": [
        {
          "output_type": "stream",
          "name": "stdout",
          "text": [
            "Enter a value to check whether prime number or not : 12\n",
            "12 IS NOT A PRIME NUMBER\n"
          ]
        }
      ]
    },
    {
      "cell_type": "code",
      "source": [
        "#Palindrome program\n",
        "\n",
        "old = int(input(\"Enter a value to check whether Palindromic or not : \"))    #oldnumber entered by user\n",
        "if old < 0:\n",
        "  print(\"Negative value not accepted\")\n",
        "else:\n",
        "    new = 0                                                                #new number after reverse\n",
        "    rev = old                                                            #stored oldnumber in a new variable reverse\n",
        "    while rev > 0:\n",
        "        rem = rev % 10\n",
        "        new = new*10 + rem\n",
        "        rev = rev//10                                                  #for making number short\n",
        "    if new == old:\n",
        "      print(old, \"IS A PALINDROME\")\n",
        "    else:\n",
        "      print(old, \"IS NOT A PALINDROME\")"
      ],
      "metadata": {
        "colab": {
          "base_uri": "https://localhost:8080/"
        },
        "id": "CeOreW6rS_qY",
        "outputId": "30331330-a6b5-4cbd-ea15-a40f43c18f70"
      },
      "execution_count": null,
      "outputs": [
        {
          "output_type": "stream",
          "name": "stdout",
          "text": [
            "Enter a value to check whether Palindromic or not : 0\n",
            "0 IS A PALINDROME\n"
          ]
        }
      ]
    },
    {
      "cell_type": "code",
      "source": [],
      "metadata": {
        "id": "bOE084q8w-tq"
      },
      "execution_count": null,
      "outputs": []
    }
  ]
}